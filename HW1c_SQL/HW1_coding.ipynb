{
 "cells": [
  {
   "cell_type": "markdown",
   "metadata": {},
   "source": [
    "!pip install ipython-sql  \n",
    "conda install -c conda-forge ipython-sql  "
   ]
  },
  {
   "cell_type": "markdown",
   "metadata": {},
   "source": [
    "CS150A Homework1 - Coding\n",
    "=======\n",
    "\n",
    "### Instructions / Notes:\n",
    "\n",
    "**_Read these carefully_**\n",
    "\n",
    "\n",
    "* You will need to install the `ipython-sql` module to run the scripts. (eg. `pip install --user ipython-sql`)\n",
    "* Run the cell below to load the database `hw1.db`.\n",
    "* You **may** create new Jupyter notebook cells to use for e.g. testing, debugging, exploring, etc.- this is encouraged in fact!\n",
    "* When you see `In [*]:` to the left of the cell you are executing, this means that the code / query is _running_.\n",
    "    * **If the cell is hanging- i.e. running for too long: to restart the SQL connection, you must restart the entire python kernel**\n",
    "    * To restart the kernel using the menu bar: \"Kernel >> Restart & Clear Output\"), then re-execute the sql connection cell at the top\n",
    "    * You will also need to restart the connection if you want to load a different version of the database file\n",
    "* Remember:\n",
    "    * `%sql [SQL]` is for _single line_ SQL queries\n",
    "    * `%%sql \n",
    "    [SQL]` is for _multi line_ SQL queries\n",
    "* We have provided correct output from our solution in `correct_output.txt`.\n",
    "   * **Your `submit.py` should match this output exactly.** This means:\n",
    "       * the columns should have the **same names** as `correct_output.txt`\n",
    "       * the columns should be in the **same order** as `correct_output.txt`\n",
    "\n",
    "### Submission Instructions:\n",
    " * Do _NOT_ submit your iPython notebook directly.\n",
    " * Instead, upload your answers in PDF version of the HW1.ipynb with your outputs to Gradescope.\n",
    "\n",
    " \n",
    " **If you hava any confusion, please ask TA team in Piazza.**\n",
    "\n",
    "_Have fun!_"
   ]
  },
  {
   "cell_type": "code",
   "execution_count": 1,
   "metadata": {},
   "outputs": [
    {
     "data": {
      "text/plain": [
       "'Connected: @hw1.db'"
      ]
     },
     "execution_count": 1,
     "metadata": {},
     "output_type": "execute_result"
    }
   ],
   "source": [
    "%load_ext sql\n",
    "%sql sqlite:///hw1.db"
   ]
  },
  {
   "cell_type": "markdown",
   "metadata": {},
   "source": [
    "Part 1: Travel Delays (75 points)\n",
    "------------------------\n",
    "**In this part, you should answer query 1 to 8.**\n",
    "\n",
    "There's nothing I dislike more than travel delays -- how about you?\n",
    "\n",
    "In fact, I'm always scheming new ways to avoid travel delays, and I just found an amazing dataset that will help me understand some of the causes and trade-offs when traveling.\n",
    "\n",
    "I wonder if you can use SQL to help me!"
   ]
  },
  {
   "cell_type": "markdown",
   "metadata": {},
   "source": [
    "----"
   ]
  },
  {
   "cell_type": "markdown",
   "metadata": {},
   "source": [
    "Not surprisingly... you can!\n",
    "\n",
    "In this part, we'll use SQL to explore airline travel delays that occurred in July 2017.\n",
    "\n",
    "To start, let's look at the primary relation in the database we've prepared for you:"
   ]
  },
  {
   "cell_type": "code",
   "execution_count": 2,
   "metadata": {},
   "outputs": [
    {
     "name": "stdout",
     "output_type": "stream",
     "text": [
      " * sqlite:///hw1.db\n",
      "Done.\n"
     ]
    },
    {
     "data": {
      "text/html": [
       "<table>\n",
       "    <thead>\n",
       "        <tr>\n",
       "            <th>year</th>\n",
       "            <th>quarter</th>\n",
       "            <th>month</th>\n",
       "            <th>day_of_month</th>\n",
       "            <th>day_of_week</th>\n",
       "            <th>fl_date</th>\n",
       "            <th>unique_carrier</th>\n",
       "            <th>airline_id</th>\n",
       "            <th>carrier</th>\n",
       "            <th>tail_num</th>\n",
       "            <th>fl_num</th>\n",
       "            <th>origin_airport_id</th>\n",
       "            <th>origin_airport_seq_id</th>\n",
       "            <th>origin_city_market_id</th>\n",
       "            <th>origin</th>\n",
       "            <th>origin_city_name</th>\n",
       "            <th>origin_state_abr</th>\n",
       "            <th>origin_state_fips</th>\n",
       "            <th>origin_state_nm</th>\n",
       "            <th>origin_wac</th>\n",
       "            <th>dest_airport_id</th>\n",
       "            <th>dest_airport_seq_id</th>\n",
       "            <th>dest_city_market_id</th>\n",
       "            <th>dest</th>\n",
       "            <th>dest_city_name</th>\n",
       "            <th>dest_state_abr</th>\n",
       "            <th>dest_state_fips</th>\n",
       "            <th>dest_state_nm</th>\n",
       "            <th>dest_wac</th>\n",
       "            <th>crs_dep_time</th>\n",
       "            <th>dep_time</th>\n",
       "            <th>dep_delay</th>\n",
       "            <th>dep_delay_new</th>\n",
       "            <th>dep_del15</th>\n",
       "            <th>dep_delay_group</th>\n",
       "            <th>dep_time_blk</th>\n",
       "            <th>taxi_out</th>\n",
       "            <th>wheels_off</th>\n",
       "            <th>wheels_on</th>\n",
       "            <th>taxi_in</th>\n",
       "            <th>crs_arr_time</th>\n",
       "            <th>arr_time</th>\n",
       "            <th>arr_delay</th>\n",
       "            <th>arr_delay_new</th>\n",
       "            <th>arr_del15</th>\n",
       "            <th>arr_delay_group</th>\n",
       "            <th>arr_time_blk</th>\n",
       "            <th>cancelled</th>\n",
       "            <th>cancellation_code</th>\n",
       "            <th>diverted</th>\n",
       "            <th>carrier_delay</th>\n",
       "            <th>weather_delay</th>\n",
       "            <th>nas_delay</th>\n",
       "            <th>security_delay</th>\n",
       "            <th>late_aircraft_delay</th>\n",
       "            <th>unnamed: 55</th>\n",
       "        </tr>\n",
       "    </thead>\n",
       "    <tbody>\n",
       "        <tr>\n",
       "            <td>2017</td>\n",
       "            <td>3</td>\n",
       "            <td>7</td>\n",
       "            <td>1</td>\n",
       "            <td>6</td>\n",
       "            <td>2017-07-01</td>\n",
       "            <td>AS</td>\n",
       "            <td>19930</td>\n",
       "            <td>AS</td>\n",
       "            <td>N559AS</td>\n",
       "            <td>1</td>\n",
       "            <td>11278</td>\n",
       "            <td>1127803</td>\n",
       "            <td>30852</td>\n",
       "            <td>DCA</td>\n",
       "            <td>Washington, DC</td>\n",
       "            <td>VA</td>\n",
       "            <td>51</td>\n",
       "            <td>Virginia</td>\n",
       "            <td>38</td>\n",
       "            <td>14747</td>\n",
       "            <td>1474703</td>\n",
       "            <td>30559</td>\n",
       "            <td>SEA</td>\n",
       "            <td>Seattle, WA</td>\n",
       "            <td>WA</td>\n",
       "            <td>53</td>\n",
       "            <td>Washington</td>\n",
       "            <td>93</td>\n",
       "            <td>800</td>\n",
       "            <td>750.0</td>\n",
       "            <td>-10.0</td>\n",
       "            <td>0.0</td>\n",
       "            <td>0.0</td>\n",
       "            <td>-1.0</td>\n",
       "            <td>0800-0859</td>\n",
       "            <td>17.0</td>\n",
       "            <td>807.0</td>\n",
       "            <td>1010.0</td>\n",
       "            <td>11.0</td>\n",
       "            <td>1053</td>\n",
       "            <td>1021.0</td>\n",
       "            <td>-32.0</td>\n",
       "            <td>0.0</td>\n",
       "            <td>0.0</td>\n",
       "            <td>-2.0</td>\n",
       "            <td>1000-1059</td>\n",
       "            <td>0.0</td>\n",
       "            <td>None</td>\n",
       "            <td>0.0</td>\n",
       "            <td>None</td>\n",
       "            <td>None</td>\n",
       "            <td>None</td>\n",
       "            <td>None</td>\n",
       "            <td>None</td>\n",
       "            <td>None</td>\n",
       "        </tr>\n",
       "    </tbody>\n",
       "</table>"
      ],
      "text/plain": [
       "[(2017, 3, 7, 1, 6, '2017-07-01', 'AS', 19930, 'AS', 'N559AS', 1, 11278, 1127803, 30852, 'DCA', 'Washington, DC', 'VA', 51, 'Virginia', 38, 14747, 1474703, 30559, 'SEA', 'Seattle, WA', 'WA', 53, 'Washington', 93, 800, 750.0, -10.0, 0.0, 0.0, -1.0, '0800-0859', 17.0, 807.0, 1010.0, 11.0, 1053, 1021.0, -32.0, 0.0, 0.0, -2.0, '1000-1059', 0.0, None, 0.0, None, None, None, None, None, None)]"
      ]
     },
     "execution_count": 2,
     "metadata": {},
     "output_type": "execute_result"
    }
   ],
   "source": [
    "%%sql\n",
    "SELECT * \n",
    "FROM flight_delays \n",
    "LIMIT 1;"
   ]
  },
  {
   "cell_type": "markdown",
   "metadata": {},
   "source": [
    "Cool, there are so many columns! How many rows are there?"
   ]
  },
  {
   "cell_type": "code",
   "execution_count": 3,
   "metadata": {},
   "outputs": [
    {
     "name": "stdout",
     "output_type": "stream",
     "text": [
      " * sqlite:///hw1.db\n",
      "Done.\n"
     ]
    },
    {
     "data": {
      "text/html": [
       "<table>\n",
       "    <thead>\n",
       "        <tr>\n",
       "            <th>num_rows</th>\n",
       "        </tr>\n",
       "    </thead>\n",
       "    <tbody>\n",
       "        <tr>\n",
       "            <td>509070</td>\n",
       "        </tr>\n",
       "    </tbody>\n",
       "</table>"
      ],
      "text/plain": [
       "[(509070,)]"
      ]
     },
     "execution_count": 3,
     "metadata": {},
     "output_type": "execute_result"
    }
   ],
   "source": [
    "%%sql\n",
    "SELECT COUNT(*) AS num_rows\n",
    "FROM flight_delays"
   ]
  },
  {
   "cell_type": "markdown",
   "metadata": {},
   "source": [
    "Wow, that's a lot of data! Good thing you don't have to answer all of my questions by hand...\n",
    "\n",
    "You don't need to import more data into the database. However, you can find a description of each field online at [https://www.transtats.bts.gov/DL_SelectFields.asp?Table_ID=236](https://www.transtats.bts.gov/DL_SelectFields.asp?Table_ID=236).\n",
    "\n",
    "We've pre-loaded a number of additional tables that will help you decode important fields like `airline_id`, `airport_id`, and `day_of_week` into human-readable form for the queries below.\n",
    "\n",
    "Please use the following cell to explore these the `airlines` and `weekdays` tables:"
   ]
  },
  {
   "cell_type": "code",
   "execution_count": 4,
   "metadata": {},
   "outputs": [
    {
     "name": "stderr",
     "output_type": "stream",
     "text": [
      "UsageError: %%sql is a cell magic, but the cell body is empty. Did you mean the line magic %sql (single %)?\n"
     ]
    }
   ],
   "source": [
    "%%sql\n"
   ]
  },
  {
   "cell_type": "markdown",
   "metadata": {},
   "source": [
    "Alright -- let's get started!"
   ]
  },
  {
   "cell_type": "markdown",
   "metadata": {},
   "source": [
    "Query 1: How long are flights delayed on average? (5 points)\n",
    "------------------------\n",
    "Just to get a sense of the data, let's start with a simple query.\n",
    "\n",
    "In the cell below, write a SQL query that returns the average arrival delay for the entire month of July 2017 (i.e., the whole dataset)."
   ]
  },
  {
   "cell_type": "code",
   "execution_count": 5,
   "metadata": {},
   "outputs": [
    {
     "name": "stdout",
     "output_type": "stream",
     "text": [
      " * sqlite:///hw1.db\n",
      "Done.\n"
     ]
    },
    {
     "data": {
      "text/html": [
       "<table>\n",
       "    <thead>\n",
       "        <tr>\n",
       "            <th>AVG(f.arr_delay)</th>\n",
       "        </tr>\n",
       "    </thead>\n",
       "    <tbody>\n",
       "        <tr>\n",
       "            <td>8.295147670495197</td>\n",
       "        </tr>\n",
       "    </tbody>\n",
       "</table>"
      ],
      "text/plain": [
       "[(8.295147670495197,)]"
      ]
     },
     "execution_count": 5,
     "metadata": {},
     "output_type": "execute_result"
    }
   ],
   "source": [
    "%%sql\n",
    "SELECT AVG(f.arr_delay)\n",
    "FROM flight_delays AS f"
   ]
  },
  {
   "cell_type": "markdown",
   "metadata": {},
   "source": [
    "Query 2: What was the worst flight delay? (6 points)\n",
    "------------------------\n",
    "Hmm, the average doesn't look too bad! What about the _worst_ delay?\n",
    "\n",
    "In the cell below, write a SQL query that returns the maximum arrival delay for the entire month of July 2017 (i.e., the whole dataset)."
   ]
  },
  {
   "cell_type": "code",
   "execution_count": 6,
   "metadata": {},
   "outputs": [
    {
     "name": "stdout",
     "output_type": "stream",
     "text": [
      " * sqlite:///hw1.db\n",
      "Done.\n"
     ]
    },
    {
     "data": {
      "text/html": [
       "<table>\n",
       "    <thead>\n",
       "        <tr>\n",
       "            <th>MAX(ABS(f.arr_delay))</th>\n",
       "        </tr>\n",
       "    </thead>\n",
       "    <tbody>\n",
       "        <tr>\n",
       "            <td>1895.0</td>\n",
       "        </tr>\n",
       "    </tbody>\n",
       "</table>"
      ],
      "text/plain": [
       "[(1895.0,)]"
      ]
     },
     "execution_count": 6,
     "metadata": {},
     "output_type": "execute_result"
    }
   ],
   "source": [
    "%%sql\n",
    "SELECT MAX(ABS(f.arr_delay))\n",
    "FROM flight_delays AS f"
   ]
  },
  {
   "cell_type": "markdown",
   "metadata": {},
   "source": [
    "Query 3: What flight am I happiest I didn't take? (8 points)\n",
    "------------------------\n",
    "Yikes! What flight was so late?\n",
    "\n",
    "In the cell below, write a SQL query that returns the carrier (i.e., `carrier`), flight number, origin city name, arrival city name, and flight date for the flight with the maximum arrival delay for the entire month of July 2017. Do not hard-code the arrival delay you found above. Hint: use a subquery."
   ]
  },
  {
   "cell_type": "code",
   "execution_count": 7,
   "metadata": {},
   "outputs": [
    {
     "name": "stdout",
     "output_type": "stream",
     "text": [
      " * sqlite:///hw1.db\n",
      "Done.\n"
     ]
    },
    {
     "data": {
      "text/html": [
       "<table>\n",
       "    <thead>\n",
       "        <tr>\n",
       "            <th>carrier</th>\n",
       "            <th>fl_num</th>\n",
       "            <th>origin_city_name</th>\n",
       "            <th>dest_city_name</th>\n",
       "            <th>fl_date</th>\n",
       "        </tr>\n",
       "    </thead>\n",
       "    <tbody>\n",
       "        <tr>\n",
       "            <td>AA</td>\n",
       "            <td>58</td>\n",
       "            <td>Kona, HI</td>\n",
       "            <td>Los Angeles, CA</td>\n",
       "            <td>2017-07-26</td>\n",
       "        </tr>\n",
       "    </tbody>\n",
       "</table>"
      ],
      "text/plain": [
       "[('AA', 58, 'Kona, HI', 'Los Angeles, CA', '2017-07-26')]"
      ]
     },
     "execution_count": 7,
     "metadata": {},
     "output_type": "execute_result"
    }
   ],
   "source": [
    "%%sql\n",
    "SELECT f.carrier, f.fl_num, f.origin_city_name, f.dest_city_name, f.fl_date\n",
    "FROM flight_delays AS f\n",
    "WHERE ABS(f.arr_delay) = (SELECT MAX(ABS(f.arr_delay)) FROM flight_delays AS f)\n",
    "-- max() should be subquery here"
   ]
  },
  {
   "cell_type": "markdown",
   "metadata": {},
   "source": [
    "Query 4: Which are the worst days to travel? (10 points)\n",
    "------------------------\n",
    "Since CS145 just started, I don't have time to head to Kona anytime soon. However, I'm headed out of town for a trip next week! What day is worst for booking my flight?\n",
    "\n",
    "In the cell below, write a SQL query that returns the average arrival delay time for each day of the week, in descending order. The schema of your relation should be of the form (`weekday_name`, `average_delay`).\n",
    "\n",
    "**Note: do _not_ report the weekday ID.** (Hint: look at the `weekdays` table and perform a join to obtain the weekday name.)"
   ]
  },
  {
   "cell_type": "code",
   "execution_count": 8,
   "metadata": {},
   "outputs": [
    {
     "name": "stdout",
     "output_type": "stream",
     "text": [
      " * sqlite:///hw1.db\n",
      "Done.\n"
     ]
    },
    {
     "data": {
      "text/html": [
       "<table>\n",
       "    <thead>\n",
       "        <tr>\n",
       "            <th>weekday_id</th>\n",
       "            <th>weekday_name</th>\n",
       "        </tr>\n",
       "    </thead>\n",
       "    <tbody>\n",
       "        <tr>\n",
       "            <td>1</td>\n",
       "            <td>Monday</td>\n",
       "        </tr>\n",
       "        <tr>\n",
       "            <td>2</td>\n",
       "            <td>Tuesday</td>\n",
       "        </tr>\n",
       "    </tbody>\n",
       "</table>"
      ],
      "text/plain": [
       "[(1, 'Monday'), (2, 'Tuesday')]"
      ]
     },
     "execution_count": 8,
     "metadata": {},
     "output_type": "execute_result"
    }
   ],
   "source": [
    "%%sql\n",
    "SELECT * \n",
    "FROM weekdays\n",
    "LIMIT 2\n",
    "-- sample of weekdays"
   ]
  },
  {
   "cell_type": "markdown",
   "metadata": {},
   "source": [
    "q4 answer"
   ]
  },
  {
   "cell_type": "code",
   "execution_count": 9,
   "metadata": {},
   "outputs": [
    {
     "name": "stdout",
     "output_type": "stream",
     "text": [
      " * sqlite:///hw1.db\n",
      "Done.\n"
     ]
    },
    {
     "data": {
      "text/html": [
       "<table>\n",
       "    <thead>\n",
       "        <tr>\n",
       "            <th>weekday_name</th>\n",
       "            <th>average_delay</th>\n",
       "        </tr>\n",
       "    </thead>\n",
       "    <tbody>\n",
       "        <tr>\n",
       "            <td>Friday</td>\n",
       "            <td>14.452012705575017</td>\n",
       "        </tr>\n",
       "        <tr>\n",
       "            <td>Monday</td>\n",
       "            <td>10.537501524948151</td>\n",
       "        </tr>\n",
       "        <tr>\n",
       "            <td>Thursday</td>\n",
       "            <td>8.47985564692658</td>\n",
       "        </tr>\n",
       "        <tr>\n",
       "            <td>Wednesday</td>\n",
       "            <td>8.4561902339015</td>\n",
       "        </tr>\n",
       "        <tr>\n",
       "            <td>Saturday</td>\n",
       "            <td>7.544554592337578</td>\n",
       "        </tr>\n",
       "        <tr>\n",
       "            <td>Tuesday</td>\n",
       "            <td>4.6315245398299725</td>\n",
       "        </tr>\n",
       "        <tr>\n",
       "            <td>Sunday</td>\n",
       "            <td>4.211659780807007</td>\n",
       "        </tr>\n",
       "    </tbody>\n",
       "</table>"
      ],
      "text/plain": [
       "[('Friday', 14.452012705575017),\n",
       " ('Monday', 10.537501524948151),\n",
       " ('Thursday', 8.47985564692658),\n",
       " ('Wednesday', 8.4561902339015),\n",
       " ('Saturday', 7.544554592337578),\n",
       " ('Tuesday', 4.6315245398299725),\n",
       " ('Sunday', 4.211659780807007)]"
      ]
     },
     "execution_count": 9,
     "metadata": {},
     "output_type": "execute_result"
    }
   ],
   "source": [
    "%%sql\n",
    "SELECT w.weekday_name, average_delay\n",
    "FROM weekdays AS w, \n",
    "(SELECT f.day_of_week AS day_id, AVG(f.arr_delay) AS average_delay\n",
    "FROM flight_delays AS f\n",
    "GROUP BY f.day_of_week) \n",
    "WHERE w.weekday_id = day_id\n",
    "ORDER BY average_delay DESC"
   ]
  },
  {
   "cell_type": "markdown",
   "metadata": {},
   "source": [
    "Query 5: Which airlines that fly out of SFO are delayed least? (10 points)\n",
    "------------------------\n",
    "Now that I know which days to avoid, I'm curious which airline I should fly out of SFO. Since I haven't been told where I'm flying, please just compute the average for the airlines that fly from SFO.\n",
    "\n",
    "In the cell below, write a SQL query that returns the average arrival delay time (across _all_ flights) for each carrier that flew out of SFO at least once in July 2017 (i.e., in the current dataset), in descending order.\n",
    "\n",
    "**Note: do _not_ report the airlines ID.** (Hint: a subquery is helpful here; also, look at the `airlines` table and perform a join.)"
   ]
  },
  {
   "cell_type": "code",
   "execution_count": 10,
   "metadata": {},
   "outputs": [
    {
     "name": "stdout",
     "output_type": "stream",
     "text": [
      " * sqlite:///hw1.db\n",
      "Done.\n"
     ]
    },
    {
     "data": {
      "text/html": [
       "<table>\n",
       "    <thead>\n",
       "        <tr>\n",
       "            <th>airline_id</th>\n",
       "            <th>airline_name</th>\n",
       "        </tr>\n",
       "    </thead>\n",
       "    <tbody>\n",
       "        <tr>\n",
       "            <td>19031</td>\n",
       "            <td>Mackey International Inc.: MAC</td>\n",
       "        </tr>\n",
       "        <tr>\n",
       "            <td>19032</td>\n",
       "            <td>Munz Northern Airlines Inc.: XY</td>\n",
       "        </tr>\n",
       "    </tbody>\n",
       "</table>"
      ],
      "text/plain": [
       "[(19031, 'Mackey International Inc.: MAC'),\n",
       " (19032, 'Munz Northern Airlines Inc.: XY')]"
      ]
     },
     "execution_count": 10,
     "metadata": {},
     "output_type": "execute_result"
    }
   ],
   "source": [
    "%%sql\n",
    "SELECT * \n",
    "FROM airlines\n",
    "LIMIT 2\n",
    "-- sample of weekdays\n"
   ]
  },
  {
   "cell_type": "markdown",
   "metadata": {},
   "source": [
    "q5 answer"
   ]
  },
  {
   "cell_type": "code",
   "execution_count": 11,
   "metadata": {},
   "outputs": [
    {
     "name": "stdout",
     "output_type": "stream",
     "text": [
      " * sqlite:///hw1.db\n",
      "Done.\n"
     ]
    },
    {
     "data": {
      "text/html": [
       "<table>\n",
       "    <thead>\n",
       "        <tr>\n",
       "            <th>airline_name</th>\n",
       "            <th>average_delay</th>\n",
       "        </tr>\n",
       "    </thead>\n",
       "    <tbody>\n",
       "        <tr>\n",
       "            <td>Frontier Airlines Inc.: F9</td>\n",
       "            <td>19.879781420765028</td>\n",
       "        </tr>\n",
       "        <tr>\n",
       "            <td>JetBlue Airways: B6</td>\n",
       "            <td>14.575539568345324</td>\n",
       "        </tr>\n",
       "        <tr>\n",
       "            <td>Southwest Airlines Co.: WN</td>\n",
       "            <td>13.792032410533423</td>\n",
       "        </tr>\n",
       "        <tr>\n",
       "            <td>American Airlines Inc.: AA</td>\n",
       "            <td>12.36739864864865</td>\n",
       "        </tr>\n",
       "        <tr>\n",
       "            <td>Virgin America: VX</td>\n",
       "            <td>11.772509323388386</td>\n",
       "        </tr>\n",
       "        <tr>\n",
       "            <td>SkyWest Airlines Inc.: OO</td>\n",
       "            <td>10.977406375735066</td>\n",
       "        </tr>\n",
       "        <tr>\n",
       "            <td>Alaska Airlines Inc.: AS</td>\n",
       "            <td>8.09014675052411</td>\n",
       "        </tr>\n",
       "        <tr>\n",
       "            <td>United Air Lines Inc.: UA</td>\n",
       "            <td>6.870443073471677</td>\n",
       "        </tr>\n",
       "        <tr>\n",
       "            <td>Delta Air Lines Inc.: DL</td>\n",
       "            <td>1.7166535122336228</td>\n",
       "        </tr>\n",
       "        <tr>\n",
       "            <td>Hawaiian Airlines Inc.: HA</td>\n",
       "            <td>-3.129032258064516</td>\n",
       "        </tr>\n",
       "    </tbody>\n",
       "</table>"
      ],
      "text/plain": [
       "[('Frontier Airlines Inc.: F9', 19.879781420765028),\n",
       " ('JetBlue Airways: B6', 14.575539568345324),\n",
       " ('Southwest Airlines Co.: WN', 13.792032410533423),\n",
       " ('American Airlines Inc.: AA', 12.36739864864865),\n",
       " ('Virgin America: VX', 11.772509323388386),\n",
       " ('SkyWest Airlines Inc.: OO', 10.977406375735066),\n",
       " ('Alaska Airlines Inc.: AS', 8.09014675052411),\n",
       " ('United Air Lines Inc.: UA', 6.870443073471677),\n",
       " ('Delta Air Lines Inc.: DL', 1.7166535122336228),\n",
       " ('Hawaiian Airlines Inc.: HA', -3.129032258064516)]"
      ]
     },
     "execution_count": 11,
     "metadata": {},
     "output_type": "execute_result"
    }
   ],
   "source": [
    "%%sql\n",
    "SELECT a.airline_name, average_delay\n",
    "FROM airlines AS a,\n",
    "(SELECT f.airline_id AS aid, AVG(f.arr_delay) AS average_delay\n",
    "FROM flight_delays AS f\n",
    "WHERE f.origin = 'SFO'\n",
    "GROUP BY f.airline_id)\n",
    "WHERE a.airline_id = aid\n",
    "ORDER BY average_delay DESC\n",
    "-- no need to abs()"
   ]
  },
  {
   "cell_type": "markdown",
   "metadata": {},
   "source": [
    "Query 6: What proportion of airlines are regularly late? (12 points)\n",
    "------------------------\n",
    "Yeesh, there are a lot of late flights! How many airlines are regularly late?\n",
    "\n",
    "In the cell below, write a SQL query that returns the proportion of airlines (appearing in `flight_delays`) whose flights are on average at least 10 minutes late to arrive. Do not hard-code the total number of airlines, and make sure to use at least one `HAVING` clause in your SQL query.\n",
    "\n",
    "Note: sqlite `COUNT(*)` returns integer types. Therefore, your query should likely contain at least one `SELECT CAST (COUNT(*) AS float)` or a clause like `COUNT(*)*1.0`."
   ]
  },
  {
   "cell_type": "code",
   "execution_count": 12,
   "metadata": {},
   "outputs": [
    {
     "name": "stdout",
     "output_type": "stream",
     "text": [
      " * sqlite:///hw1.db\n",
      "Done.\n"
     ]
    },
    {
     "data": {
      "text/html": [
       "<table>\n",
       "    <thead>\n",
       "        <tr>\n",
       "            <th>airline_id</th>\n",
       "            <th>COUNT(*)</th>\n",
       "        </tr>\n",
       "    </thead>\n",
       "    <tbody>\n",
       "        <tr>\n",
       "            <td>19805</td>\n",
       "            <td>79403</td>\n",
       "        </tr>\n",
       "        <tr>\n",
       "            <td>20366</td>\n",
       "            <td>29231</td>\n",
       "        </tr>\n",
       "        <tr>\n",
       "            <td>20409</td>\n",
       "            <td>26436</td>\n",
       "        </tr>\n",
       "        <tr>\n",
       "            <td>20436</td>\n",
       "            <td>9611</td>\n",
       "        </tr>\n",
       "    </tbody>\n",
       "</table>"
      ],
      "text/plain": [
       "[(19805, 79403), (20366, 29231), (20409, 26436), (20436, 9611)]"
      ]
     },
     "execution_count": 12,
     "metadata": {},
     "output_type": "execute_result"
    }
   ],
   "source": [
    "%%sql\n",
    "SELECT f.airline_id,COUNT(*)\n",
    "FROM flight_delays AS f\n",
    "GROUP BY f.airline_id\n",
    "HAVING AVG(f.arr_delay) >= 10"
   ]
  },
  {
   "cell_type": "markdown",
   "metadata": {},
   "source": [
    "q6 answer"
   ]
  },
  {
   "cell_type": "code",
   "execution_count": 28,
   "metadata": {},
   "outputs": [
    {
     "name": "stdout",
     "output_type": "stream",
     "text": [
      " * sqlite:///hw1.db\n",
      "Done.\n"
     ]
    },
    {
     "data": {
      "text/html": [
       "<table>\n",
       "    <thead>\n",
       "        <tr>\n",
       "            <th>proportion</th>\n",
       "        </tr>\n",
       "    </thead>\n",
       "    <tbody>\n",
       "        <tr>\n",
       "            <td>0.2842064941952973</td>\n",
       "        </tr>\n",
       "    </tbody>\n",
       "</table>"
      ],
      "text/plain": [
       "[(0.2842064941952973,)]"
      ]
     },
     "execution_count": 28,
     "metadata": {},
     "output_type": "execute_result"
    }
   ],
   "source": [
    "%%sql\n",
    "SELECT SUM(regular_delay_count)/count_all AS proportion\n",
    "FROM \n",
    "(SELECT f.airline_id,COUNT(*) AS regular_delay_count\n",
    "FROM flight_delays AS f\n",
    "GROUP BY f.airline_id\n",
    "HAVING AVG(f.arr_delay) >= 10),\n",
    "(SELECT COUNT(*)*1.0 AS count_all\n",
    "FROM flight_delays AS f)"
   ]
  },
  {
   "cell_type": "markdown",
   "metadata": {},
   "source": [
    "Query 7: How do late departures affect late arrivals? (12 points)\n",
    "------------------------\n",
    "It sure looks like my plane is likely to be delayed. I'd like to know: if my plane is delayed in taking off, how will it affect my arrival time?\n",
    "\n",
    "The [sample covariance](https://en.wikipedia.org/wiki/Covariance) provides a measure of the joint variability of two variables. The higher the covariance, the more the two variables behave similarly, and negative covariance indicates the variables indicate the variables tend to be inversely related. We can compute the sample covariance as:\n",
    "$$\n",
    "Cov(X,Y) = \\frac{1}{n-1} \\sum_{i=1}^n (x_i-\\hat{x})(y_i-\\hat{y})\n",
    "$$\n",
    "where $x_i$ denotes the $i$th sample of $X$, $y_i$ the $i$th sample of $Y$, and the mean of $X$ and $Y$ are denoted by $\\bar{x}$ and $\\bar{y}$.\n",
    "\n",
    "In the cell below, write a single SQL query that computes the covariance between the departure delay time and the arrival delay time.\n",
    "\n",
    "*Note: we could also compute a statistic like the [Pearson correlation coefficient](https://en.wikipedia.org/wiki/Pearson_correlation_coefficient) here, which provides a normalized measure (i.e., on a scale from -1 to 1) of how strongly two variables are related. However, sqlite doesn't natively support square roots (unlike commonly-used relational databases like PostgreSQL and MySQL!), so we're asking you to compute covariance instead.*"
   ]
  },
  {
   "cell_type": "code",
   "execution_count": 14,
   "metadata": {},
   "outputs": [
    {
     "name": "stderr",
     "output_type": "stream",
     "text": [
      "UsageError: %%sql is a cell magic, but the cell body is empty. Did you mean the line magic %sql (single %)?\n"
     ]
    }
   ],
   "source": [
    "%%sql\n"
   ]
  },
  {
   "cell_type": "markdown",
   "metadata": {},
   "source": [
    "Query 8: It was a bad week... (12 points)\n",
    "------------------------\n",
    "Which airlines had the largest absolute increase in average arrival delay in the last week of July (i.e., flights on or after July 24th) compared to the previous days (i.e. flights before July 24th)?\n",
    "\n",
    "In the cell below, write a single SQL query that returns the airline name (_not_ ID) with the maximum absolute increase in average arrival delay between the first 23 days of the month and days 24-31. Report both the airline name and the absolute increase.\n",
    "\n",
    "Note: due to [sqlite's handling of dates](http://www.sqlite.org/lang_datefunc.html), it may be easier to query using `day_of_month`.\n",
    "\n",
    "Note 2: This is probably the hardest query of the assignment; break it down into subqueries that you can run one-by-one and build up your answer subquery by subquery.\n",
    "\n",
    "Hint: You can compute two subqueries, one to compute the average arrival delay for flights on or after July 24th, and one to compute the average arrival delay for flights before July 24th, and then join the two to calculate the increase in delay. "
   ]
  },
  {
   "cell_type": "code",
   "execution_count": 15,
   "metadata": {},
   "outputs": [
    {
     "name": "stderr",
     "output_type": "stream",
     "text": [
      "UsageError: %%sql is a cell magic, but the cell body is empty. Did you mean the line magic %sql (single %)?\n"
     ]
    }
   ],
   "source": [
    "%%sql\n"
   ]
  },
  {
   "cell_type": "markdown",
   "metadata": {},
   "source": [
    "Part 2: Uber Orders (25 points)\n",
    "------------------------\n",
    "**In this part, you should answer query 9.**\n",
    "\n",
    "To help Uber improve the performance of their taxi-hailing APP, you are required to calculate the cancellation rate of orders.\n",
    "\n",
    "Let's start with the following table `Orders` and `Users`."
   ]
  },
  {
   "cell_type": "code",
   "execution_count": 16,
   "metadata": {},
   "outputs": [
    {
     "name": "stdout",
     "output_type": "stream",
     "text": [
      " * sqlite:///hw1.db\n",
      "Done.\n"
     ]
    },
    {
     "data": {
      "text/html": [
       "<table>\n",
       "    <thead>\n",
       "        <tr>\n",
       "            <th>id</th>\n",
       "            <th>client_id</th>\n",
       "            <th>driver_id</th>\n",
       "            <th>city_id</th>\n",
       "            <th>status</th>\n",
       "            <th>day</th>\n",
       "        </tr>\n",
       "    </thead>\n",
       "    <tbody>\n",
       "        <tr>\n",
       "            <td>1</td>\n",
       "            <td>1</td>\n",
       "            <td>10</td>\n",
       "            <td>1</td>\n",
       "            <td>completed</td>\n",
       "            <td>2022-10-01</td>\n",
       "        </tr>\n",
       "    </tbody>\n",
       "</table>"
      ],
      "text/plain": [
       "[(1, 1, 10, 1, 'completed', '2022-10-01')]"
      ]
     },
     "execution_count": 16,
     "metadata": {},
     "output_type": "execute_result"
    }
   ],
   "source": [
    "%%sql\n",
    "SELECT * \n",
    "FROM Orders\n",
    "Limit 1;"
   ]
  },
  {
   "cell_type": "markdown",
   "metadata": {},
   "source": [
    "In `Orders`:\n",
    "\n",
    "The table holds all Uber taxi orders, `id` is the primary key for this table.\n",
    "Each order has a unique `id`, while `client_id` and `driver_id` are foreign keys to the `users_id` at the `Users` table.\n",
    "`status` is an ENUM type of ('completed', 'cancelled_by_driver', 'cancelled_by_client')."
   ]
  },
  {
   "cell_type": "code",
   "execution_count": 17,
   "metadata": {},
   "outputs": [
    {
     "name": "stdout",
     "output_type": "stream",
     "text": [
      " * sqlite:///hw1.db\n",
      "Done.\n"
     ]
    },
    {
     "data": {
      "text/html": [
       "<table>\n",
       "    <thead>\n",
       "        <tr>\n",
       "            <th>users_id</th>\n",
       "            <th>banned</th>\n",
       "            <th>role</th>\n",
       "        </tr>\n",
       "    </thead>\n",
       "    <tbody>\n",
       "        <tr>\n",
       "            <td>1</td>\n",
       "            <td>No</td>\n",
       "            <td>client</td>\n",
       "        </tr>\n",
       "    </tbody>\n",
       "</table>"
      ],
      "text/plain": [
       "[(1, 'No', 'client')]"
      ]
     },
     "execution_count": 17,
     "metadata": {},
     "output_type": "execute_result"
    }
   ],
   "source": [
    "%%sql\n",
    "SELECT * \n",
    "FROM Users \n",
    "Limit 1;"
   ]
  },
  {
   "cell_type": "markdown",
   "metadata": {},
   "source": [
    "In `Users`:\n",
    "\n",
    "The table holds all users, `users_id` is the primary key for this table.\n",
    "Each user has a unique `users_id`, and `role` is an ENUM type of ('client', 'driver', 'partner').\n",
    "`banned` is an ENUM type of ('Yes', 'No')."
   ]
  },
  {
   "cell_type": "markdown",
   "metadata": {},
   "source": [
    "Query 9: What is the cancellation rate? (25 points)\n",
    "------------------------\n",
    "The definition of Cancellation Rate as follows, where unbanned users means `banned`=='No':\n",
    "\n",
    "**cancellation rate = the number of canceled (by client or driver) requests with unbanned users / the total number of requests with unbanned users on that day.**\n",
    "\n",
    "In the cell below, write a single SQL query that returns the cancellation rate of requests with unbanned users (both client and driver must not be banned) each day between \"2022-10-01\" and \"2022-10-03\". Round Cancellation Rate to two decimal points.\n",
    "\n",
    "Hint: you may refer the `CASE` expression.\n"
   ]
  },
  {
   "cell_type": "code",
   "execution_count": 18,
   "metadata": {},
   "outputs": [
    {
     "name": "stderr",
     "output_type": "stream",
     "text": [
      "UsageError: %%sql is a cell magic, but the cell body is empty. Did you mean the line magic %sql (single %)?\n"
     ]
    }
   ],
   "source": [
    "%%sql\n"
   ]
  },
  {
   "cell_type": "markdown",
   "metadata": {},
   "source": [
    "## You're done! Now submit!\n",
    " * Refer to the top of this notebook for submission instructions."
   ]
  }
 ],
 "metadata": {
  "kernelspec": {
   "display_name": "Python 3.9.12 ('DL')",
   "language": "python",
   "name": "python3"
  },
  "language_info": {
   "codemirror_mode": {
    "name": "ipython",
    "version": 3
   },
   "file_extension": ".py",
   "mimetype": "text/x-python",
   "name": "python",
   "nbconvert_exporter": "python",
   "pygments_lexer": "ipython3",
   "version": "3.9.12"
  },
  "vscode": {
   "interpreter": {
    "hash": "4b0af241fc3002c9fe7ec63aef8d2493f931b8d18b3a74683a4c32557e9c531f"
   }
  }
 },
 "nbformat": 4,
 "nbformat_minor": 2
}
