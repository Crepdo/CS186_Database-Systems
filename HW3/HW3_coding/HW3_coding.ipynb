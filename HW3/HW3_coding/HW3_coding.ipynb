{
 "cells": [
  {
   "cell_type": "markdown",
   "metadata": {},
   "source": [
    "CS150A Homework3 -- Coding\n",
    "=======\n",
    "\n",
    "### Instructions / Notes:\n",
    "\n",
    "**_Read these carefully_**\n",
    "\n",
    "* You may need to install the `sklearn` module to run the scripts.\n",
    "* You **may** create new Jupyter notebook cells to use for e.g. testing, debugging, exploring, etc.- this is encouraged in fact!\n",
    "* There will be deductions from your grades if you don't have ouputs when the question requires you to do so. \n",
    "\n",
    "### Submission Instructions:\n",
    " * Do _NOT_ submit your iPython notebook directly.\n",
    " * Instead, upload your answers in PDF version of the HW3.ipynb with your outputs to Gradescope.\n",
    "\n",
    " \n",
    " **If you hava any confusion, please ask TA team in Piazza.**\n",
    "\n",
    "_Have fun!_"
   ]
  },
  {
   "cell_type": "code",
   "execution_count": 3844,
   "metadata": {},
   "outputs": [],
   "source": [
    "import numpy as np\n",
    "import matplotlib.pyplot as plt\n",
    "from sklearn.datasets import make_blobs\n",
    "from sklearn.cluster import KMeans\n",
    "from sklearn.metrics import silhouette_score\n",
    "from sklearn.preprocessing import StandardScaler\n",
    "from sklearn.cluster import DBSCAN\n",
    "from sklearn.datasets import make_moons\n",
    "from sklearn.metrics import adjusted_rand_score\n",
    "from sklearn import preprocessing\n",
    "import pandas as pd\n",
    "import math\n",
    "import random"
   ]
  },
  {
   "cell_type": "markdown",
   "metadata": {},
   "source": [
    "Part 1: Implementation of K-means (70 points)\n",
    "------------------------\n",
    "**In this part, you should finish question 1 to 7.**\n",
    "\n",
    "In the lecture we have learnt about the K-means algorithm, now we need to finish the sectional functions of k-means method, and use it in the following tasks."
   ]
  },
  {
   "cell_type": "markdown",
   "metadata": {},
   "source": [
    "The k-means clustering method is an unsupervised machine learning technique used to identify clusters of data objects in a dataset. There are many different types of clustering methods, but k-means is one of the oldest and most approachable. \n",
    "\n",
    "Conventional k-means requires only a few steps. The first step is to randomly select k centroids, where k is equal to the number of clusters you choose. Centroids are data points representing the center of a cluster.The main element of the algorithm works by a two-step process called expectation-maximization. The expectation step assigns each data point to its nearest centroid. Then, the maximization step computes the mean of all the points for each cluster and sets the new centroid. \n",
    "\n",
    "**Hint: It will be helpful to refer to the pseudocode of K-means in the lecture.**"
   ]
  },
  {
   "cell_type": "code",
   "execution_count": 3845,
   "metadata": {},
   "outputs": [],
   "source": [
    "X = np.array([[0,2],[0,0],[1,0],[5,0],[5,2]])"
   ]
  },
  {
   "cell_type": "markdown",
   "metadata": {},
   "source": [
    "Question 1: Definition of Euclidean Distance (10 points)\n",
    "------------------------\n",
    "\n",
    "In this question, you should finish the \"euclidean_distance\" function, where we compute the euclidean distance of two given points."
   ]
  },
  {
   "cell_type": "code",
   "execution_count": 3846,
   "metadata": {},
   "outputs": [],
   "source": [
    "def euclidean_distance(x1, x2):\n",
    "    return math.sqrt((x1[0]-x2[0])**2 + (x1[1]-x2[1])**2)\n",
    "    \n",
    "# ----- Write You Code Here ----- #\n"
   ]
  },
  {
   "cell_type": "code",
   "execution_count": 3847,
   "metadata": {},
   "outputs": [
    {
     "name": "stdout",
     "output_type": "stream",
     "text": [
      "True\n"
     ]
    }
   ],
   "source": [
    "print(euclidean_distance(X[0], X[4])==5)"
   ]
  },
  {
   "cell_type": "markdown",
   "metadata": {},
   "source": [
    "Question 2: Initialization of Centroids (10 points)\n",
    "------------------------\n",
    "\n",
    "In this question, you should finish the \"centroids_init\" function. Centroid initialization is class-center initialization, that is, k samples of the dataset are randomly selected for each category for class-center initialization. This process is also the starting point of K-means clustering algorithm.\n",
    "\n",
    "**input:**  \n",
    "    X: dataset  \n",
    "    k: num of centroids  \n",
    "**output:**  \n",
    "    return `k * n` matrix of centroids for `m * n` dataset X"
   ]
  },
  {
   "cell_type": "code",
   "execution_count": 3848,
   "metadata": {},
   "outputs": [],
   "source": [
    "def centroids_init(k, X):\n",
    "# ----- Write You Code Here ----- #\n",
    "    res = random.sample(X.tolist(),k)\n",
    "    return res"
   ]
  },
  {
   "cell_type": "code",
   "execution_count": 3849,
   "metadata": {},
   "outputs": [
    {
     "data": {
      "text/plain": [
       "[[5, 0], [0, 2], [0, 0]]"
      ]
     },
     "execution_count": 3849,
     "metadata": {},
     "output_type": "execute_result"
    }
   ],
   "source": [
    "# test\n",
    "test_centers = centroids_init(3,X)\n",
    "test_centers"
   ]
  },
  {
   "cell_type": "markdown",
   "metadata": {},
   "source": [
    "Question 3: Determination of Belonging Centroids (10 points)\n",
    "------------------------\n",
    "\n",
    "In this question, you should finish the \"closest_centroid\" function. This function defines the class index to which the nearest centroid of the sample belongs according to euclidean distances.\n",
    "\n",
    "**input:**  \n",
    "    sample: a single sample of X  \n",
    "    centroids: matrix of centroids  \n",
    "**output:**  \n",
    "    return the index of center that the sample belongs to"
   ]
  },
  {
   "cell_type": "code",
   "execution_count": 3850,
   "metadata": {},
   "outputs": [],
   "source": [
    "def closest_centroid(sample, centroids):\n",
    "# ----- Write You Code Here ----- #\n",
    "    smallest = euclidean_distance(sample,centroids[0])\n",
    "    res = 0\n",
    "    for i in range(0,len(centroids)):\n",
    "        if euclidean_distance(sample,centroids[i]) < smallest:\n",
    "            smallest = euclidean_distance(sample,centroids[i])\n",
    "            res = i\n",
    "    return res"
   ]
  },
  {
   "cell_type": "code",
   "execution_count": 3851,
   "metadata": {},
   "outputs": [
    {
     "data": {
      "text/plain": [
       "2"
      ]
     },
     "execution_count": 3851,
     "metadata": {},
     "output_type": "execute_result"
    }
   ],
   "source": [
    "# test\n",
    "closest_centroid([2,0],X)"
   ]
  },
  {
   "attachments": {},
   "cell_type": "markdown",
   "metadata": {},
   "source": [
    "Question 4: Assignment of Clusters (10 points)\n",
    "------------------------\n",
    "\n",
    "In this question, you should finish the \"build_clusters\" function, where we should assign clusters to each data point. This step is actually the clustering process, that is, each sample is assigned to the nearest class cluster.\n",
    "\n",
    "**input:**  \n",
    "    centroids: matrix of centroids\n",
    "    k: num of centroids  \n",
    "    X: dataset  \n",
    "**output:**  \n",
    "    return the matrix of clusters with index of each assigned sample x_i as item"
   ]
  },
  {
   "cell_type": "code",
   "execution_count": 3852,
   "metadata": {},
   "outputs": [],
   "source": [
    "def build_clusters(centroids, k, X):\n",
    "# ----- Write You Code Here ----- #\n",
    "    res = [[] for i in range(0,k)]\n",
    "    for i in range(0,len(X)):\n",
    "        res[closest_centroid(X[i],centroids)].append(i)\n",
    "    return res"
   ]
  },
  {
   "cell_type": "code",
   "execution_count": 3853,
   "metadata": {},
   "outputs": [
    {
     "data": {
      "text/plain": [
       "[[3, 4], [0], [1, 2]]"
      ]
     },
     "execution_count": 3853,
     "metadata": {},
     "output_type": "execute_result"
    }
   ],
   "source": [
    "test_clusters = build_clusters(test_centers, 3, X)\n",
    "test_clusters"
   ]
  },
  {
   "cell_type": "markdown",
   "metadata": {},
   "source": [
    "Question 5: Recalculation of Centroids (10 points)\n",
    "------------------------\n",
    "\n",
    "In this question, you should finish the \"calculate_centroids\" function. The core idea of K-means clustering algorithm is to continuously dynamically adjust, recalculate the centroid according to the class cluster generated in the previous step, and then perform the clustering process.\n",
    "\n",
    "**input:**  \n",
    "    clusters: the matrix of clusters with index of each assigned sample x_i as item\n",
    "    k: num of centroids  \n",
    "    X: dataset  \n",
    "**output:**  \n",
    "    return the updated matrix of centroids"
   ]
  },
  {
   "cell_type": "code",
   "execution_count": 3854,
   "metadata": {},
   "outputs": [],
   "source": [
    "def calculate_centroids(clusters, k, X):\n",
    "# ----- Write You Code Here ----- #\n",
    "    values = np.zeros((k,2))\n",
    "    count = [0]*k\n",
    "    for i in range(0,len(clusters)):\n",
    "        for point_index in clusters[i]:\n",
    "            values[i] += X[point_index]\n",
    "            count[i] += 1\n",
    "    values = [((1/count[i])*values[i]).tolist() for i in range(0,k)]\n",
    "    return values\n"
   ]
  },
  {
   "cell_type": "code",
   "execution_count": 3855,
   "metadata": {},
   "outputs": [
    {
     "data": {
      "text/plain": [
       "[[5.0, 1.0], [0.0, 2.0], [0.5, 0.0]]"
      ]
     },
     "execution_count": 3855,
     "metadata": {},
     "output_type": "execute_result"
    }
   ],
   "source": [
    "calculate_centroids(test_clusters, 3, X)"
   ]
  },
  {
   "cell_type": "markdown",
   "metadata": {},
   "source": [
    "Question 6: Get Labels (10 points)\n",
    "------------------------\n",
    "\n",
    "In this question, you should finish the \"get_cluster_labels\" function, where we should get the cluster category to which each sample belongs, a.k.a. the labels of each data point.\n",
    "\n",
    "**input:**  \n",
    "    clusters: the matrix of clusters with index of each assigned sample x_i as item  \n",
    "    X: dataset  \n",
    "**output:**  \n",
    "    return the predicted labels of X"
   ]
  },
  {
   "cell_type": "code",
   "execution_count": 3856,
   "metadata": {},
   "outputs": [],
   "source": [
    "def get_cluster_labels(clusters, X):\n",
    "# ----- Write You Code Here ----- #\n",
    "    res = [0]*len(X)\n",
    "    for i in range(0,len(X)):\n",
    "        for j in range(0,len(clusters)):\n",
    "            if i in clusters[j]: res[i] = j\n",
    "    return np.array(res)"
   ]
  },
  {
   "cell_type": "code",
   "execution_count": 3857,
   "metadata": {},
   "outputs": [
    {
     "data": {
      "text/plain": [
       "array([1, 2, 2, 0, 0])"
      ]
     },
     "execution_count": 3857,
     "metadata": {},
     "output_type": "execute_result"
    }
   ],
   "source": [
    "get_cluster_labels(test_clusters, X)"
   ]
  },
  {
   "cell_type": "markdown",
   "metadata": {},
   "source": [
    "Question 7: K-means Clustering (10 points)\n",
    "------------------------\n",
    "\n",
    "In this question, you should finish the \"mykmeans\" function. Define the K-means clustering algorithm flow based on the above functions.\n",
    "\n",
    "**input:**  \n",
    "    X: dataset  \n",
    "    k: num of centroids  \n",
    "    max_iterations: max time of iterations  \n",
    "**output:**  \n",
    "    return the predicted labels of X\n",
    "\n",
    "**Note: you should exactly finish the following 5 serial parts of the function.**"
   ]
  },
  {
   "cell_type": "code",
   "execution_count": 3858,
   "metadata": {},
   "outputs": [],
   "source": [
    "def mykmeans(X, k, max_iterations):\n",
    "# ----- Write You Code Here ----- #\n",
    "    # 1.Initialize the centroids\n",
    "    last_centroids = centroids_init(k,X)\n",
    "    # Iterations\n",
    "    for i in range(max_iterations):\n",
    "        # 2.Build clusters according to the current centroids\n",
    "        clusters = build_clusters(last_centroids, k, X)\n",
    "        # 3.Compute the new centroids according to the new clustering results\n",
    "        centroids = calculate_centroids(clusters, k, X)\n",
    "        # 4.Set the convergence condition as whether the centroids change\n",
    "        if centroids == last_centroids and i!=0 : break\n",
    "        last_centroids = centroids\n",
    "    # 5.Return final labels of each points\n",
    "    # print('iter times: ',i)\n",
    "    return get_cluster_labels(clusters, X)\n"
   ]
  },
  {
   "cell_type": "code",
   "execution_count": 3864,
   "metadata": {},
   "outputs": [
    {
     "name": "stdout",
     "output_type": "stream",
     "text": [
      "[1 1 1 0 0] [1 1 1 0 0]\n"
     ]
    }
   ],
   "source": [
    "# comparision for your check\n",
    "from sklearn.cluster import KMeans\n",
    "pred1 = mykmeans(X, 2, 100)\n",
    "pred2 = KMeans(n_clusters=2).fit_predict(X)\n",
    "print(pred1, pred2)"
   ]
  },
  {
   "cell_type": "markdown",
   "metadata": {},
   "source": [
    "Good for you! Now you can use your K-means functions to do more wonderful things!"
   ]
  },
  {
   "cell_type": "code",
   "execution_count": 3860,
   "metadata": {},
   "outputs": [
    {
     "name": "stdout",
     "output_type": "stream",
     "text": [
      "0.798\n"
     ]
    }
   ],
   "source": [
    "# a fast evaluation test\n",
    "test = 500\n",
    "count = 0\n",
    "for i in range(0,test):\n",
    "    pred1 = mykmeans(X, 2, 100)\n",
    "    pred2 = KMeans(n_clusters=2).fit_predict(X)\n",
    "    res_pd1 = []\n",
    "    for i in pred1: \n",
    "        if i == 0: res_pd1.append(1)\n",
    "        else: res_pd1.append(0)\n",
    "    res_pd1 = np.array(res_pd1)\n",
    "    if pred1.tolist() == pred2.tolist()  or res_pd1.tolist()  == pred2.tolist(): count+=1\n",
    "print(count/test)\n"
   ]
  },
  {
   "cell_type": "markdown",
   "metadata": {},
   "source": [
    "Part 2: Plots and ARI (10 points)\n",
    "------------------------\n",
    "\n",
    "**In this part, you should finish question 8.**\n",
    "\n",
    "Now you may wonder given the prediction of K-means clustering method, then how to evaluate the results properly. If the ground truth labels are known, it’s possible to use a clustering metric that considers labels in its evaluation. You can use the `scikit-learn` implementation of a common metric called the **adjusted rand index (ARI)**, which uses true cluster assignments to measure the similarity between true and predicted labels. The ARI output values range between -1 and 1. A score close to 0.0 indicates random assignments, and a score close to 1 indicates perfectly labeled clusters. Besides, it would be helpful if we can see the assignment of clusters with **plots**.\n"
   ]
  },
  {
   "cell_type": "markdown",
   "metadata": {},
   "source": [
    "Question 8: Reach higher ARI (10 points)\n",
    "------------------------\n",
    "\n",
    "In this question, you should tune the parameters `n_clusters` and `max_iters` to see better results of your K-means method, the output ARI should be higher than **0.7** with clear plots."
   ]
  },
  {
   "cell_type": "code",
   "execution_count": 3861,
   "metadata": {},
   "outputs": [
    {
     "name": "stdout",
     "output_type": "stream",
     "text": [
      "ARI of K-means with 5 clusters and 3000 max iterations: 0.7090321013591384\n"
     ]
    },
    {
     "data": {
      "image/png": "[encoded data removed]",
      "text/plain": [
       "<Figure size 432x288 with 1 Axes>"
      ]
     },
     "metadata": {
      "needs_background": "light"
     },
     "output_type": "display_data"
    }
   ],
   "source": [
    "features = np.genfromtxt('data_x.csv')\n",
    "true_labels = np.genfromtxt('data_y.csv')\n",
    "n_clusters = 5\n",
    "max_iters = 3000\n",
    "\n",
    "pred = mykmeans(features, n_clusters, max_iters)\n",
    "plt.plot()\n",
    "plt.scatter(features[:, 0], features[:, 1], c=pred)\n",
    "plt.title(\"K-means Clusters\")\n",
    "ari_kmeans = adjusted_rand_score(true_labels, pred)\n",
    "print('ARI of K-means with {} clusters and {} max iterations:'.format(n_clusters, max_iters),ari_kmeans)"
   ]
  },
  {
   "attachments": {},
   "cell_type": "markdown",
   "metadata": {},
   "source": [
    "Part 3: Prediction of Asian Football Teams (20 points)\n",
    "------------------------\n",
    "\n",
    "**In this part, you should finish question 9.10.**\n",
    "\n",
    "Did you watch the recent 2022 World Cup in Qatar? WOW, that would be super exciting! Maybe you are thinking of which football team to celebrate or even pay closer attention to Asian teams. Now imagine that you could have the chance to choose which Asian football teams to be participated in the next round of World Cup with your K-means methods. What a surpise!"
   ]
  },
  {
   "cell_type": "code",
   "execution_count": 3868,
   "metadata": {},
   "outputs": [
    {
     "data": {
      "text/html": [
       "<div>\n",
       "<style scoped>\n",
       "    .dataframe tbody tr th:only-of-type {\n",
       "        vertical-align: middle;\n",
       "    }\n",
       "\n",
       "    .dataframe tbody tr th {\n",
       "        vertical-align: top;\n",
       "    }\n",
       "\n",
       "    .dataframe thead th {\n",
       "        text-align: right;\n",
       "    }\n",
       "</style>\n",
       "<table border=\"1\" class=\"dataframe\">\n",
       "  <thead>\n",
       "    <tr style=\"text-align: right;\">\n",
       "      <th></th>\n",
       "      <th>Country</th>\n",
       "      <th>2019Global</th>\n",
       "      <th>2018WorldCup</th>\n",
       "      <th>2015AsianCup</th>\n",
       "    </tr>\n",
       "  </thead>\n",
       "  <tbody>\n",
       "    <tr>\n",
       "      <th>0</th>\n",
       "      <td>China</td>\n",
       "      <td>73</td>\n",
       "      <td>40</td>\n",
       "      <td>7</td>\n",
       "    </tr>\n",
       "    <tr>\n",
       "      <th>1</th>\n",
       "      <td>Japan</td>\n",
       "      <td>60</td>\n",
       "      <td>15</td>\n",
       "      <td>5</td>\n",
       "    </tr>\n",
       "    <tr>\n",
       "      <th>2</th>\n",
       "      <td>SouthKorea</td>\n",
       "      <td>61</td>\n",
       "      <td>19</td>\n",
       "      <td>2</td>\n",
       "    </tr>\n",
       "    <tr>\n",
       "      <th>3</th>\n",
       "      <td>Iran</td>\n",
       "      <td>34</td>\n",
       "      <td>18</td>\n",
       "      <td>6</td>\n",
       "    </tr>\n",
       "    <tr>\n",
       "      <th>4</th>\n",
       "      <td>Saudi</td>\n",
       "      <td>67</td>\n",
       "      <td>26</td>\n",
       "      <td>10</td>\n",
       "    </tr>\n",
       "    <tr>\n",
       "      <th>5</th>\n",
       "      <td>Iraq</td>\n",
       "      <td>91</td>\n",
       "      <td>40</td>\n",
       "      <td>4</td>\n",
       "    </tr>\n",
       "    <tr>\n",
       "      <th>6</th>\n",
       "      <td>Qatar</td>\n",
       "      <td>101</td>\n",
       "      <td>40</td>\n",
       "      <td>13</td>\n",
       "    </tr>\n",
       "    <tr>\n",
       "      <th>7</th>\n",
       "      <td>UAE</td>\n",
       "      <td>81</td>\n",
       "      <td>40</td>\n",
       "      <td>6</td>\n",
       "    </tr>\n",
       "    <tr>\n",
       "      <th>8</th>\n",
       "      <td>Uzbekistan</td>\n",
       "      <td>88</td>\n",
       "      <td>40</td>\n",
       "      <td>8</td>\n",
       "    </tr>\n",
       "    <tr>\n",
       "      <th>9</th>\n",
       "      <td>Thailand</td>\n",
       "      <td>122</td>\n",
       "      <td>40</td>\n",
       "      <td>17</td>\n",
       "    </tr>\n",
       "    <tr>\n",
       "      <th>10</th>\n",
       "      <td>Vietnam</td>\n",
       "      <td>102</td>\n",
       "      <td>50</td>\n",
       "      <td>17</td>\n",
       "    </tr>\n",
       "    <tr>\n",
       "      <th>11</th>\n",
       "      <td>Oman</td>\n",
       "      <td>87</td>\n",
       "      <td>50</td>\n",
       "      <td>12</td>\n",
       "    </tr>\n",
       "    <tr>\n",
       "      <th>12</th>\n",
       "      <td>Bahrain</td>\n",
       "      <td>116</td>\n",
       "      <td>50</td>\n",
       "      <td>11</td>\n",
       "    </tr>\n",
       "    <tr>\n",
       "      <th>13</th>\n",
       "      <td>NorthKorea</td>\n",
       "      <td>110</td>\n",
       "      <td>50</td>\n",
       "      <td>14</td>\n",
       "    </tr>\n",
       "    <tr>\n",
       "      <th>14</th>\n",
       "      <td>Indonesia</td>\n",
       "      <td>164</td>\n",
       "      <td>50</td>\n",
       "      <td>17</td>\n",
       "    </tr>\n",
       "    <tr>\n",
       "      <th>15</th>\n",
       "      <td>Australia</td>\n",
       "      <td>40</td>\n",
       "      <td>30</td>\n",
       "      <td>1</td>\n",
       "    </tr>\n",
       "    <tr>\n",
       "      <th>16</th>\n",
       "      <td>Syria</td>\n",
       "      <td>76</td>\n",
       "      <td>40</td>\n",
       "      <td>17</td>\n",
       "    </tr>\n",
       "    <tr>\n",
       "      <th>17</th>\n",
       "      <td>Jordan</td>\n",
       "      <td>118</td>\n",
       "      <td>50</td>\n",
       "      <td>9</td>\n",
       "    </tr>\n",
       "    <tr>\n",
       "      <th>18</th>\n",
       "      <td>Kuwait</td>\n",
       "      <td>160</td>\n",
       "      <td>50</td>\n",
       "      <td>15</td>\n",
       "    </tr>\n",
       "    <tr>\n",
       "      <th>19</th>\n",
       "      <td>Palestine</td>\n",
       "      <td>96</td>\n",
       "      <td>50</td>\n",
       "      <td>16</td>\n",
       "    </tr>\n",
       "  </tbody>\n",
       "</table>\n",
       "</div>"
      ],
      "text/plain": [
       "       Country  2019Global  2018WorldCup  2015AsianCup\n",
       "0        China          73            40             7\n",
       "1        Japan          60            15             5\n",
       "2   SouthKorea          61            19             2\n",
       "3         Iran          34            18             6\n",
       "4        Saudi          67            26            10\n",
       "5         Iraq          91            40             4\n",
       "6        Qatar         101            40            13\n",
       "7          UAE          81            40             6\n",
       "8   Uzbekistan          88            40             8\n",
       "9     Thailand         122            40            17\n",
       "10     Vietnam         102            50            17\n",
       "11        Oman          87            50            12\n",
       "12     Bahrain         116            50            11\n",
       "13  NorthKorea         110            50            14\n",
       "14   Indonesia         164            50            17\n",
       "15   Australia          40            30             1\n",
       "16       Syria          76            40            17\n",
       "17      Jordan         118            50             9\n",
       "18      Kuwait         160            50            15\n",
       "19   Palestine          96            50            16"
      ]
     },
     "execution_count": 3868,
     "metadata": {},
     "output_type": "execute_result"
    }
   ],
   "source": [
    "data = pd.read_csv('soccer.csv')\n",
    "train_x = data[[\"Country\",\"2019Global\",\"2018WorldCup\",\"2015AsianCup\"]]\n",
    "df = pd.DataFrame(train_x)\n",
    "df"
   ]
  },
  {
   "cell_type": "markdown",
   "metadata": {},
   "source": [
    "Question 9: Choose 5 Teams (10 points)\n",
    "------------------------\n",
    "\n",
    "If you are about to choose **5** Asian teams from the pool, which five teams would you choose and why? Please briefly explain your reasons with your clustering results as output.\n",
    "\n",
    "**Hint: `preprocessing.MinMaxScaler()` function can help for dataset scaling**"
   ]
  },
  {
   "cell_type": "code",
   "execution_count": null,
   "metadata": {},
   "outputs": [],
   "source": []
  },
  {
   "attachments": {},
   "cell_type": "markdown",
   "metadata": {},
   "source": [
    "Question 10: Choose 9 Teams (10 points)\n",
    "------------------------\n",
    "\n",
    "It's announced that the 2026 World Cup wil  allow 48 teams in total. Now, maybe we could choose up to 9 Asian teams to participate in the contest. So if you are about to choose **9** Asian teams from the pool, which **9** teams would you choose and why? Please briefly explain your reasons with your clustering results as output.\n",
    "\n",
    "**Hint: `preprocessing.MinMaxScaler()` function can help for dataset scaling**"
   ]
  },
  {
   "cell_type": "code",
   "execution_count": null,
   "metadata": {},
   "outputs": [],
   "source": []
  }
 ],
 "metadata": {
  "kernelspec": {
   "display_name": "Python 3.9.12 ('DL')",
   "language": "python",
   "name": "python3"
  },
  "language_info": {
   "codemirror_mode": {
    "name": "ipython",
    "version": 3
   },
   "file_extension": ".py",
   "mimetype": "text/x-python",
   "name": "python",
   "nbconvert_exporter": "python",
   "pygments_lexer": "ipython3",
   "version": "3.9.12"
  },
  "vscode": {
   "interpreter": {
    "hash": "4b0af241fc3002c9fe7ec63aef8d2493f931b8d18b3a74683a4c32557e9c531f"
   }
  }
 },
 "nbformat": 4,
 "nbformat_minor": 2
}
